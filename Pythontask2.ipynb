{
 "cells": [
  {
   "cell_type": "code",
   "execution_count": 2,
   "id": "8ed35b27",
   "metadata": {},
   "outputs": [],
   "source": [
    "import pandas as pd"
   ]
  },
  {
   "cell_type": "code",
   "execution_count": 9,
   "id": "8fd39bf1",
   "metadata": {},
   "outputs": [],
   "source": [
    "df = pd.read_csv(\"dataset-3.csv\")\n"
   ]
  },
  {
   "cell_type": "code",
   "execution_count": 6,
   "id": "c573ebeb",
   "metadata": {},
   "outputs": [
    {
     "data": {
      "text/html": [
       "<div>\n",
       "<style scoped>\n",
       "    .dataframe tbody tr th:only-of-type {\n",
       "        vertical-align: middle;\n",
       "    }\n",
       "\n",
       "    .dataframe tbody tr th {\n",
       "        vertical-align: top;\n",
       "    }\n",
       "\n",
       "    .dataframe thead th {\n",
       "        text-align: right;\n",
       "    }\n",
       "</style>\n",
       "<table border=\"1\" class=\"dataframe\">\n",
       "  <thead>\n",
       "    <tr style=\"text-align: right;\">\n",
       "      <th></th>\n",
       "      <th>id_start</th>\n",
       "      <th>id_end</th>\n",
       "      <th>distance</th>\n",
       "    </tr>\n",
       "  </thead>\n",
       "  <tbody>\n",
       "    <tr>\n",
       "      <th>0</th>\n",
       "      <td>1001400</td>\n",
       "      <td>1001402</td>\n",
       "      <td>9.7</td>\n",
       "    </tr>\n",
       "    <tr>\n",
       "      <th>1</th>\n",
       "      <td>1001402</td>\n",
       "      <td>1001404</td>\n",
       "      <td>20.2</td>\n",
       "    </tr>\n",
       "    <tr>\n",
       "      <th>2</th>\n",
       "      <td>1001404</td>\n",
       "      <td>1001406</td>\n",
       "      <td>16.0</td>\n",
       "    </tr>\n",
       "    <tr>\n",
       "      <th>3</th>\n",
       "      <td>1001406</td>\n",
       "      <td>1001408</td>\n",
       "      <td>21.7</td>\n",
       "    </tr>\n",
       "    <tr>\n",
       "      <th>4</th>\n",
       "      <td>1001408</td>\n",
       "      <td>1001410</td>\n",
       "      <td>11.1</td>\n",
       "    </tr>\n",
       "  </tbody>\n",
       "</table>\n",
       "</div>"
      ],
      "text/plain": [
       "   id_start   id_end  distance\n",
       "0   1001400  1001402       9.7\n",
       "1   1001402  1001404      20.2\n",
       "2   1001404  1001406      16.0\n",
       "3   1001406  1001408      21.7\n",
       "4   1001408  1001410      11.1"
      ]
     },
     "execution_count": 6,
     "metadata": {},
     "output_type": "execute_result"
    }
   ],
   "source": [
    "df.head(5)"
   ]
  },
  {
   "cell_type": "markdown",
   "id": "8b021cbb",
   "metadata": {},
   "source": [
    "# QUESTION 1"
   ]
  },
  {
   "cell_type": "code",
   "execution_count": 10,
   "id": "87e03f2e",
   "metadata": {},
   "outputs": [
    {
     "ename": "AttributeError",
     "evalue": "'str' object has no attribute 'pivot'",
     "output_type": "error",
     "traceback": [
      "\u001b[0;31m---------------------------------------------------------------------------\u001b[0m",
      "\u001b[0;31mAttributeError\u001b[0m                            Traceback (most recent call last)",
      "Cell \u001b[0;32mIn[10], line 34\u001b[0m\n\u001b[1;32m     32\u001b[0m dataset3_df \u001b[38;5;241m=\u001b[39m \u001b[38;5;124m'\u001b[39m\u001b[38;5;124mdataset-3.csv\u001b[39m\u001b[38;5;124m'\u001b[39m\n\u001b[1;32m     33\u001b[0m \u001b[38;5;66;03m# Call the calculate_distance_matrix function\u001b[39;00m\n\u001b[0;32m---> 34\u001b[0m distance_matrix_result \u001b[38;5;241m=\u001b[39m \u001b[43mcalculate_distance_matrix\u001b[49m\u001b[43m(\u001b[49m\u001b[43mdataset3_df\u001b[49m\u001b[43m)\u001b[49m\n\u001b[1;32m     36\u001b[0m \u001b[38;5;66;03m# Display the result\u001b[39;00m\n\u001b[1;32m     37\u001b[0m \u001b[38;5;28mprint\u001b[39m(distance_matrix_result)\n",
      "Cell \u001b[0;32mIn[10], line 5\u001b[0m, in \u001b[0;36mcalculate_distance_matrix\u001b[0;34m(df)\u001b[0m\n\u001b[1;32m      3\u001b[0m \u001b[38;5;28;01mdef\u001b[39;00m \u001b[38;5;21mcalculate_distance_matrix\u001b[39m(df):\n\u001b[1;32m      4\u001b[0m     \u001b[38;5;66;03m# Pivot the DataFrame to create a matrix with IDs as columns and rows\u001b[39;00m\n\u001b[0;32m----> 5\u001b[0m     pivot_df \u001b[38;5;241m=\u001b[39m \u001b[43mdf\u001b[49m\u001b[38;5;241;43m.\u001b[39;49m\u001b[43mpivot\u001b[49m(index\u001b[38;5;241m=\u001b[39m\u001b[38;5;124m'\u001b[39m\u001b[38;5;124mFrom\u001b[39m\u001b[38;5;124m'\u001b[39m, columns\u001b[38;5;241m=\u001b[39m\u001b[38;5;124m'\u001b[39m\u001b[38;5;124mTo\u001b[39m\u001b[38;5;124m'\u001b[39m, values\u001b[38;5;241m=\u001b[39m\u001b[38;5;124m'\u001b[39m\u001b[38;5;124mDistance\u001b[39m\u001b[38;5;124m'\u001b[39m)\n\u001b[1;32m      7\u001b[0m     \u001b[38;5;66;03m# Fill NaN values with 0, as NaN indicates unknown distances\u001b[39;00m\n\u001b[1;32m      8\u001b[0m     pivot_df\u001b[38;5;241m.\u001b[39mfillna(\u001b[38;5;241m0\u001b[39m, inplace\u001b[38;5;241m=\u001b[39m\u001b[38;5;28;01mTrue\u001b[39;00m)\n",
      "\u001b[0;31mAttributeError\u001b[0m: 'str' object has no attribute 'pivot'"
     ]
    }
   ],
   "source": [
    "import pandas as pd\n",
    "\n",
    "def calculate_distance_matrix(df):\n",
    "    # Pivot the DataFrame to create a matrix with IDs as columns and rows\n",
    "    pivot_df = df.pivot(index='From', columns='To', values='Distance')\n",
    "\n",
    "    # Fill NaN values with 0, as NaN indicates unknown distances\n",
    "    pivot_df.fillna(0, inplace=True)\n",
    "\n",
    "    # Convert the DataFrame to a numpy array for efficient calculations\n",
    "    distance_matrix = pivot_df.to_numpy()\n",
    "\n",
    "    # Iterate over rows and columns to update distances based on known routes\n",
    "    for i in range(len(distance_matrix)):\n",
    "        for j in range(len(distance_matrix)):\n",
    "            for k in range(len(distance_matrix)):\n",
    "                # Update the distance if a known route exists\n",
    "                if distance_matrix[i, j] > 0 and distance_matrix[j, k] > 0:\n",
    "                    distance_matrix[i, k] = distance_matrix[i, j] + distance_matrix[j, k]\n",
    "\n",
    "    # Ensure the matrix is symmetric\n",
    "    distance_matrix = (distance_matrix + distance_matrix.T) / 2\n",
    "\n",
    "    # Create a new DataFrame with the updated distance matrix\n",
    "    result_df = pd.DataFrame(distance_matrix, index=pivot_df.index, columns=pivot_df.columns)\n",
    "\n",
    "    return result_df\n",
    "\n",
    "# Example usage:\n",
    "# Assuming you have the DataFrame 'dataset3_df' loaded from dataset-3.csv\n",
    "# Replace 'dataset3_df' with the actual DataFrame obtained from dataset-3.csv\n",
    "dataset3_df = 'dataset-3.csv'\n",
    "# Call the calculate_distance_matrix function\n",
    "distance_matrix_result = calculate_distance_matrix(dataset3_df)\n",
    "\n",
    "# Display the result\n",
    "print(distance_matrix_result)\n"
   ]
  },
  {
   "cell_type": "markdown",
   "id": "817d275e",
   "metadata": {},
   "source": [
    "## Question 2\n"
   ]
  },
  {
   "cell_type": "code",
   "execution_count": 11,
   "id": "c2637b6d",
   "metadata": {},
   "outputs": [
    {
     "ename": "AttributeError",
     "evalue": "'ellipsis' object has no attribute 'index'",
     "output_type": "error",
     "traceback": [
      "\u001b[0;31m---------------------------------------------------------------------------\u001b[0m",
      "\u001b[0;31mAttributeError\u001b[0m                            Traceback (most recent call last)",
      "Cell \u001b[0;32mIn[11], line 33\u001b[0m\n\u001b[1;32m     30\u001b[0m distance_matrix_result \u001b[38;5;241m=\u001b[39m \u001b[38;5;241m.\u001b[39m\u001b[38;5;241m.\u001b[39m\u001b[38;5;241m.\u001b[39m\n\u001b[1;32m     32\u001b[0m \u001b[38;5;66;03m# Call the unroll_distance_matrix function\u001b[39;00m\n\u001b[0;32m---> 33\u001b[0m unrolled_distance_df \u001b[38;5;241m=\u001b[39m \u001b[43munroll_distance_matrix\u001b[49m\u001b[43m(\u001b[49m\u001b[43mdistance_matrix_result\u001b[49m\u001b[43m)\u001b[49m\n\u001b[1;32m     35\u001b[0m \u001b[38;5;66;03m# Display the result\u001b[39;00m\n\u001b[1;32m     36\u001b[0m \u001b[38;5;28mprint\u001b[39m(unrolled_distance_df)\n",
      "Cell \u001b[0;32mIn[11], line 5\u001b[0m, in \u001b[0;36munroll_distance_matrix\u001b[0;34m(distance_matrix_df)\u001b[0m\n\u001b[1;32m      3\u001b[0m \u001b[38;5;28;01mdef\u001b[39;00m \u001b[38;5;21munroll_distance_matrix\u001b[39m(distance_matrix_df):\n\u001b[1;32m      4\u001b[0m     \u001b[38;5;66;03m# Extract the column and index names from the distance matrix\u001b[39;00m\n\u001b[0;32m----> 5\u001b[0m     ids \u001b[38;5;241m=\u001b[39m \u001b[43mdistance_matrix_df\u001b[49m\u001b[38;5;241;43m.\u001b[39;49m\u001b[43mindex\u001b[49m\u001b[38;5;241m.\u001b[39mtolist()\n\u001b[1;32m      7\u001b[0m     \u001b[38;5;66;03m# Initialize lists to store unrolled data\u001b[39;00m\n\u001b[1;32m      8\u001b[0m     id_starts \u001b[38;5;241m=\u001b[39m []\n",
      "\u001b[0;31mAttributeError\u001b[0m: 'ellipsis' object has no attribute 'index'"
     ]
    }
   ],
   "source": [
    "import pandas as pd\n",
    "\n",
    "def unroll_distance_matrix(distance_matrix_df):\n",
    "    # Extract the column and index names from the distance matrix\n",
    "    ids = distance_matrix_df.index.tolist()\n",
    "\n",
    "    # Initialize lists to store unrolled data\n",
    "    id_starts = []\n",
    "    id_ends = []\n",
    "    distances = []\n",
    "\n",
    "    # Iterate over the distance matrix to create unrolled data\n",
    "    for id_start in ids:\n",
    "        for id_end in ids:\n",
    "            # Skip combinations where id_start is equal to id_end\n",
    "            if id_start != id_end:\n",
    "                distance = distance_matrix_df.loc[id_start, id_end]\n",
    "                id_starts.append(id_start)\n",
    "                id_ends.append(id_end)\n",
    "                distances.append(distance)\n",
    "\n",
    "    # Create a new DataFrame with unrolled data\n",
    "    unrolled_df = pd.DataFrame({'id_start': id_starts, 'id_end': id_ends, 'distance': distances})\n",
    "\n",
    "    return unrolled_df\n",
    "\n",
    "# Example usage:\n",
    "# Assuming you have the DataFrame 'distance_matrix_result' from the previous question\n",
    "# Replace 'distance_matrix_result' with the actual DataFrame obtained from Question 1\n",
    "distance_matrix_result = ...\n",
    "\n",
    "# Call the unroll_distance_matrix function\n",
    "unrolled_distance_df = unroll_distance_matrix(distance_matrix_result)\n",
    "\n",
    "# Display the result\n",
    "print(unrolled_distance_df)\n",
    "\n"
   ]
  }
 ],
 "metadata": {
  "kernelspec": {
   "display_name": "Python 3 (ipykernel)",
   "language": "python",
   "name": "python3"
  },
  "language_info": {
   "codemirror_mode": {
    "name": "ipython",
    "version": 3
   },
   "file_extension": ".py",
   "mimetype": "text/x-python",
   "name": "python",
   "nbconvert_exporter": "python",
   "pygments_lexer": "ipython3",
   "version": "3.10.9"
  }
 },
 "nbformat": 4,
 "nbformat_minor": 5
}
